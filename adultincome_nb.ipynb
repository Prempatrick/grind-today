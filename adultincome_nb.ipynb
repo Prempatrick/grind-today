{
 "cells": [
  {
   "cell_type": "code",
   "execution_count": 109,
   "metadata": {},
   "outputs": [],
   "source": [
    "import pandas as pd \n",
    "import numpy as np \n",
    "from sklearn.model_selection import train_test_split\n",
    "from sklearn.preprocessing import OneHotEncoder\n"
   ]
  },
  {
   "cell_type": "code",
   "execution_count": 98,
   "metadata": {},
   "outputs": [],
   "source": [
    "raw_data= pd.read_csv('adult.csv')"
   ]
  },
  {
   "cell_type": "code",
   "execution_count": 99,
   "metadata": {},
   "outputs": [
    {
     "data": {
      "text/plain": [
       "Index(['age', 'workclass', 'fnlwgt', 'education', 'educational-num',\n",
       "       'marital-status', 'occupation', 'relationship', 'race', 'gender',\n",
       "       'capital-gain', 'capital-loss', 'hours-per-week', 'native-country',\n",
       "       'income'],\n",
       "      dtype='object')"
      ]
     },
     "execution_count": 99,
     "metadata": {},
     "output_type": "execute_result"
    }
   ],
   "source": [
    "raw_data.columns"
   ]
  },
  {
   "cell_type": "code",
   "execution_count": 100,
   "metadata": {},
   "outputs": [],
   "source": [
    "# Labels  \n",
    "X= raw_data.iloc[:,:-1]\n",
    "y=raw_data.iloc[:,-1:]\n"
   ]
  },
  {
   "cell_type": "code",
   "execution_count": 101,
   "metadata": {},
   "outputs": [],
   "source": [
    "X_train,X_test,y_train,y_test= train_test_split(X,y,test_size=0.2)"
   ]
  },
  {
   "cell_type": "code",
   "execution_count": 113,
   "metadata": {},
   "outputs": [
    {
     "data": {
      "text/plain": [
       "age                  0\n",
       "workclass          583\n",
       "fnlwgt               0\n",
       "education            0\n",
       "educational-num      0\n",
       "marital-status       0\n",
       "occupation         583\n",
       "relationship         0\n",
       "race                 0\n",
       "gender               0\n",
       "capital-gain         0\n",
       "capital-loss         0\n",
       "hours-per-week       0\n",
       "native-country     167\n",
       "dtype: int64"
      ]
     },
     "execution_count": 113,
     "metadata": {},
     "output_type": "execute_result"
    }
   ],
   "source": [
    "X_test.isnull().sum()"
   ]
  },
  {
   "cell_type": "code",
   "execution_count": null,
   "metadata": {},
   "outputs": [],
   "source": []
  },
  {
   "cell_type": "code",
   "execution_count": 91,
   "metadata": {},
   "outputs": [],
   "source": [
    "# from sklearn.base import BaseEstimator, TransformerMixin\n",
    "# class ModeImputer(BaseEstimator, TransformerMixin):\n",
    "\n",
    "#     def __init__(self,dtype,col_names=None):\n",
    "#         self.col_names=col_names\n",
    "#         self.dtype=dtype\n",
    "\n",
    "#     def fit(self, X_dataset, y=None):\n",
    "#         return self\n",
    "\n",
    "#     def transform(self, X_dataset):\n",
    "#         for cols in self.col_names:\n",
    "#             X_dataset.loc[:,cols]=X_dataset.fillna(X_dataset[cols].mode()[0])\n",
    "#         return X_dataset.select_dtypes(include=[self.dtype])"
   ]
  },
  {
   "cell_type": "code",
   "execution_count": 115,
   "metadata": {},
   "outputs": [],
   "source": [
    "from sklearn.pipeline import Pipeline\n",
    "from sklearn.impute import SimpleImputer\n",
    "from sklearn.preprocessing import OneHotEncoder,MinMaxScaler\n",
    "numeric_pipeline= Pipeline(steps=[('impute',SimpleImputer(strategy='mean')),('scale',MinMaxScaler())])\n",
    "categorical_pipeline=Pipeline(steps=[('impute',SimpleImputer(strategy='most_frequent')),('onehotencode',OneHotEncoder(handle_unknown='ignore',sparse=False))])"
   ]
  },
  {
   "cell_type": "code",
   "execution_count": 116,
   "metadata": {},
   "outputs": [],
   "source": [
    "# Getting the numerical and categorical features \n",
    "numerical_features= X_train.select_dtypes(include='number').columns.tolist()\n",
    "categorical_features= X_train.select_dtypes(exclude='number').columns.tolist()"
   ]
  },
  {
   "cell_type": "code",
   "execution_count": 117,
   "metadata": {},
   "outputs": [],
   "source": [
    "# Creating Machine Learning Pipeline \n",
    "from sklearn.compose import ColumnTransformer\n",
    "full_processor= ColumnTransformer(transformers=[('number',numeric_pipeline,numerical_features),('object',categorical_pipeline,categorical_features)])\n",
    "\n",
    "\n"
   ]
  },
  {
   "cell_type": "code",
   "execution_count": 118,
   "metadata": {},
   "outputs": [
    {
     "data": {
      "text/plain": [
       "array([[0.65753425, 0.0084831 , 0.53333333, ..., 1.        , 0.        ,\n",
       "        0.        ],\n",
       "       [0.23287671, 0.12543205, 0.53333333, ..., 1.        , 0.        ,\n",
       "        0.        ],\n",
       "       [0.04109589, 0.06954804, 0.6       , ..., 1.        , 0.        ,\n",
       "        0.        ],\n",
       "       ...,\n",
       "       [0.08219178, 0.16298123, 0.73333333, ..., 1.        , 0.        ,\n",
       "        0.        ],\n",
       "       [0.09589041, 0.0707083 , 0.66666667, ..., 1.        , 0.        ,\n",
       "        0.        ],\n",
       "       [0.5890411 , 0.04986757, 0.86666667, ..., 0.        , 0.        ,\n",
       "        0.        ]])"
      ]
     },
     "execution_count": 118,
     "metadata": {},
     "output_type": "execute_result"
    }
   ],
   "source": [
    "full_processor.fit_transform(X_train)\n",
    "\n"
   ]
  },
  {
   "cell_type": "code",
   "execution_count": 119,
   "metadata": {},
   "outputs": [],
   "source": [
    "from sklearn.ensemble import RandomForestClassifier\n",
    "rcl_pipeline= Pipeline(steps=[('preprocess',full_processor),('randomforest', RandomForestClassifier(n_estimators=10))])\n",
    "\n"
   ]
  },
  {
   "cell_type": "code",
   "execution_count": 121,
   "metadata": {},
   "outputs": [
    {
     "name": "stderr",
     "output_type": "stream",
     "text": [
      "c:\\Users\\Prem\\.conda\\envs\\azprem\\lib\\site-packages\\sklearn\\pipeline.py:346: DataConversionWarning: A column-vector y was passed when a 1d array was expected. Please change the shape of y to (n_samples,), for example using ravel().\n",
      "  self._final_estimator.fit(Xt, y, **fit_params_last_step)\n"
     ]
    },
    {
     "data": {
      "text/plain": [
       "Pipeline(steps=[('preprocess',\n",
       "                 ColumnTransformer(transformers=[('number',\n",
       "                                                  Pipeline(steps=[('impute',\n",
       "                                                                   SimpleImputer()),\n",
       "                                                                  ('scale',\n",
       "                                                                   MinMaxScaler())]),\n",
       "                                                  ['age', 'fnlwgt',\n",
       "                                                   'educational-num',\n",
       "                                                   'capital-gain',\n",
       "                                                   'capital-loss',\n",
       "                                                   'hours-per-week']),\n",
       "                                                 ('object',\n",
       "                                                  Pipeline(steps=[('impute',\n",
       "                                                                   SimpleImputer(strategy='most_frequent')),\n",
       "                                                                  ('onehotencode',\n",
       "                                                                   OneHotEncoder(handle_unknown='ignore',\n",
       "                                                                                 sparse=False))]),\n",
       "                                                  ['workclass', 'education',\n",
       "                                                   'marital-status',\n",
       "                                                   'occupation', 'relationship',\n",
       "                                                   'race', 'gender',\n",
       "                                                   'native-country'])])),\n",
       "                ('randomforest', RandomForestClassifier(n_estimators=10))])"
      ]
     },
     "execution_count": 121,
     "metadata": {},
     "output_type": "execute_result"
    }
   ],
   "source": [
    "rcl_pipeline.fit(X_train,y_train)"
   ]
  },
  {
   "cell_type": "code",
   "execution_count": 79,
   "metadata": {},
   "outputs": [],
   "source": []
  },
  {
   "cell_type": "code",
   "execution_count": null,
   "metadata": {},
   "outputs": [],
   "source": []
  }
 ],
 "metadata": {
  "kernelspec": {
   "display_name": "Python 3.6.13 ('azprem')",
   "language": "python",
   "name": "python3"
  },
  "language_info": {
   "codemirror_mode": {
    "name": "ipython",
    "version": 3
   },
   "file_extension": ".py",
   "mimetype": "text/x-python",
   "name": "python",
   "nbconvert_exporter": "python",
   "pygments_lexer": "ipython3",
   "version": "3.6.13"
  },
  "orig_nbformat": 4,
  "vscode": {
   "interpreter": {
    "hash": "18211a7b6df8ea486321a818072edf0baa67f212b0111e93938c80b187f768e0"
   }
  }
 },
 "nbformat": 4,
 "nbformat_minor": 2
}
